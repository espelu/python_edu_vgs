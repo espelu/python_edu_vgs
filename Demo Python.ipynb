{
 "cells": [
  {
   "cell_type": "markdown",
   "metadata": {},
   "source": [
    "# Programmering i Python\n",
    "Dette dokumentet har til hensikt å vise eksempler på kode i Python - fra de helt enkle kommandoene, til litt mer avanserte algoritmer.\n",
    "\n",
    "For å gjøre programmering mest mulig forståelig, så har jeg skrevet ned dette direkte fra hodet. Det finnes mange kurs og \"lessons\" man kan følge på nettet, men ved å fortelle og bruke et muntlig språk tror jeg man vil møte elever på en mer forståelig måte, da de introduseres for noe helt nytt.\n",
    "\n",
    "Programmering handler om å gi en datamaskin bestemmelser for hvordan den skal tolke og behandle \"inputs\", for eksempelvis tekst eller tall, og skrive ut \"outputs\". Datamaskinen leser kronologisk som oss mennesker - fra øvers venstre, linje for linje, til nederst høyre. Derfor må en programmerer lage en oppskrift som dataen følger, vi kaller dette for algoritmer.\n",
    "\n",
    "En god programmerer har mye øving og teft i å skrive de mest effektive algoritmene.\n",
    "\n",
    "Derfør burde man bruke mye tid i kursene og fagene på å pin-pointe hva som er problemet og skrive ned løsningsforslag som algoritmer. Python bryr seg ikke om hvilket språk man skriver, men den har noe innebygde funksjoner som man vil få bruk for. Disse er da på engelsk.\n",
    "\n",
    "### \"Det er som å lære seg et nytt språk, bestående av få ord. Utfordringen ligger i setningsoppbygning og logisk tankegang.\""
   ]
  },
  {
   "cell_type": "markdown",
   "metadata": {},
   "source": [
    "Et program kan skrive ut tekst:"
   ]
  },
  {
   "cell_type": "code",
   "execution_count": null,
   "metadata": {},
   "outputs": [],
   "source": [
    "print(\"For å skrive ut tekst må det brukes en print()-kommando.\")\n",
    "#print('Dette skrives ikke ut, fordi linjen starter med #. Det betyr at det er en kommentar')       "
   ]
  },
  {
   "cell_type": "markdown",
   "metadata": {},
   "source": [
    "Lagre variabler. Enten direkte i programmet,"
   ]
  },
  {
   "cell_type": "code",
   "execution_count": null,
   "metadata": {},
   "outputs": [],
   "source": [
    "# variabelens navn = variabl\n",
    "a = 4 # tallet 4 er et tall, i kodingens verden kalles dette for int (integer)/heltall\n",
    "Navn = \"Ola Nordmann\" # Tekst i \"hermetegn\" eller 'enkelt klamme', regnes som str (string)\n",
    "print(\"Jeg har skrevet at a =\",a, \"og at navnet mitt er\",Navn)"
   ]
  },
  {
   "cell_type": "markdown",
   "metadata": {},
   "source": [
    "Eller så kan programmet også be brukeren om å skrive inn variablene:"
   ]
  },
  {
   "cell_type": "code",
   "execution_count": null,
   "metadata": {},
   "outputs": [],
   "source": [
    "navn = input(\"Hva heter du?\")\n",
    "tall = int(input(\"Hvor gammel er du?\")) #Jeg skriver int() for å  gjøre om inputen fra streng til heltall\n",
    "print(\"%s,\"% navn, tall, \"er jo den beste alder!\")"
   ]
  },
  {
   "cell_type": "markdown",
   "metadata": {},
   "source": [
    "Et program skjønner de fleste matematiske tegn og logiske funksjoner."
   ]
  },
  {
   "cell_type": "code",
   "execution_count": null,
   "metadata": {},
   "outputs": [],
   "source": [
    "b=3\n",
    "Addisjon=a+b\n",
    "Addisjon"
   ]
  },
  {
   "cell_type": "code",
   "execution_count": null,
   "metadata": {},
   "outputs": [],
   "source": [
    "Multiplikasjon=a*b\n",
    "Multiplikasjon"
   ]
  },
  {
   "cell_type": "code",
   "execution_count": null,
   "metadata": {},
   "outputs": [],
   "source": [
    "mindre_enn = a<b\n",
    "større_enn = a>b\n",
    "print(\"Er a, altså %d, mindre enn b, %d?\" % (a,b), mindre_enn)\n",
    "print(\"Da er a større enn b da?\", større_enn)"
   ]
  },
  {
   "cell_type": "markdown",
   "metadata": {},
   "source": [
    "\"True\" and \"False\" kalles for \"Boolean values\". True = 1 = Ja. False = 0 = Nei. En \"statment\" eller påstand er ENTEN sann, eller usann. \n",
    "\n",
    "Dette blir brukt særdeles ofte i programmeringens verden. Det brukes ofte når man skal få datamaskinenen til å lese en kode eller ikke.\n",
    "\n",
    "Du bruker det i din hverdag: \n",
    "    - Kjører jeg for fort? Ja eller nei?\n",
    "    - Har jeg låst døra? Ja eller nei?\n",
    "    \n",
    "Utifra svarene har du sannsynligvis to ulike handlemåter:\n",
    "    - Kjører jeg for fort? Ja: Jeg reduserer farten. Nei: Jeg trenger ikke å redusere farten, og fortsetter i samme hastighet.\n",
    "    - Har jeg låst døra? Ja: Flott da er det ikke vits å låse døra og jeg sparer meg for den tiden det tar å låse døra flere ganger. Nei: Jeg låser døra.\n",
    "    \n",
    "Noen raske eksempler i kode:"
   ]
  },
  {
   "cell_type": "code",
   "execution_count": null,
   "metadata": {},
   "outputs": [],
   "source": [
    "Fartsgrense = 60\n",
    "Hastighet = 50\n",
    "\n",
    "if Hastighet>Fartsgrense:\n",
    "    print('Senk farten, din råkjører!')\n",
    "else:\n",
    "    print('Flott, du kjører ikke over fartsgrensen, men kanskje du burde sjekke om du kjører langt under fartsgrensen?')\n",
    "    \n",
    "    "
   ]
  },
  {
   "cell_type": "code",
   "execution_count": null,
   "metadata": {},
   "outputs": [],
   "source": [
    "Fartsgrense = 60\n",
    "Hastighet = 70\n",
    "while Hastighet > Fartsgrense:\n",
    "    Hastighet -= 1\n",
    "    print('Hastigheten er nå blitt redusert til', Hastighet)\n",
    "    \n",
    "print('Takk for at du kjører ansvarlig!')\n",
    "    "
   ]
  },
  {
   "cell_type": "markdown",
   "metadata": {},
   "source": [
    "Avslutningsvis, for å gire opp litt, så kan man fremstille funksjoner og data grafisk:"
   ]
  },
  {
   "cell_type": "code",
   "execution_count": null,
   "metadata": {},
   "outputs": [],
   "source": [
    "import matplotlib.pyplot as plt \n",
    "\n",
    "# frequencies \n",
    "ages = [2,5,70,40,30,45,50,45,43,40,44, \n",
    "\t\t60,7,13,57,18,90,77,32,21,20,40] \n",
    "\n",
    "# setting the ranges and no. of intervals \n",
    "range = (0, 100) \n",
    "bins = 10\n",
    "\n",
    "# plotting a histogram \n",
    "plt.hist(ages, bins, range, color = 'green', \n",
    "\t\thisttype = 'bar', rwidth = 0.8) \n",
    "\n",
    "# x-axis label \n",
    "plt.xlabel('age') \n",
    "# frequency label \n",
    "plt.ylabel('No. of people') \n",
    "# plot title \n",
    "plt.title('My histogram') \n",
    "\n",
    "# function to show the plot \n",
    "plt.show() \n"
   ]
  },
  {
   "cell_type": "code",
   "execution_count": null,
   "metadata": {},
   "outputs": [],
   "source": [
    "# importing the required modules \n",
    "import matplotlib.pyplot as plt \n",
    "import numpy as np \n",
    "\n",
    "# setting the x - coordinates \n",
    "x = np.arange(0, 2*(np.pi), 0.1) \n",
    "# setting the corresponding y - coordinates \n",
    "y = np.sin(x) \n",
    "\n",
    "# potting the points \n",
    "plt.plot(x, y) \n",
    "\n",
    "# function to show the plot \n",
    "plt.show() \n"
   ]
  },
  {
   "cell_type": "markdown",
   "metadata": {},
   "source": [
    "Eller man kan bruke litt tid på å lage en algoritme som løser alle løsbare Sudokuer på millisekunder:"
   ]
  },
  {
   "cell_type": "code",
   "execution_count": 2,
   "metadata": {},
   "outputs": [
    {
     "name": "stdout",
     "output_type": "stream",
     "text": [
      "Dette var brettet som ble gitt i oppgaven, altså input\n",
      "7 8 0  | 4 0 0  | 1 2 0\n",
      "6 0 0  | 0 7 5  | 0 0 9\n",
      "0 0 0  | 6 0 1  | 0 7 8\n",
      "- - - - - - - - - - - - - \n",
      "0 0 7  | 0 4 0  | 2 6 0\n",
      "0 0 1  | 0 5 0  | 9 3 0\n",
      "9 0 4  | 0 6 0  | 0 0 5\n",
      "- - - - - - - - - - - - - \n",
      "0 7 0  | 3 0 0  | 0 1 2\n",
      "1 2 0  | 0 0 7  | 4 0 0\n",
      "0 4 9  | 2 0 6  | 0 0 7\n",
      "___________________\n",
      "Med et raskt søk i Google finner man en kode som løser sudoku raskere en Olav H\n",
      "7 8 5  | 4 3 9  | 1 2 6\n",
      "6 1 2  | 8 7 5  | 3 4 9\n",
      "4 9 3  | 6 2 1  | 5 7 8\n",
      "- - - - - - - - - - - - - \n",
      "8 5 7  | 9 4 3  | 2 6 1\n",
      "2 6 1  | 7 5 8  | 9 3 4\n",
      "9 3 4  | 1 6 2  | 7 8 5\n",
      "- - - - - - - - - - - - - \n",
      "5 7 8  | 3 9 4  | 6 1 2\n",
      "1 2 6  | 5 8 7  | 4 9 3\n",
      "3 4 9  | 2 1 6  | 8 5 7\n"
     ]
    }
   ],
   "source": [
    "# Denne koden bruker en variabel som er blitt nevnt tidligere. For å få koden til å fungere må man \"Restart and Clear Output\" \n",
    "board = [\n",
    "    [7,8,0,4,0,0,1,2,0],\n",
    "    [6,0,0,0,7,5,0,0,9],\n",
    "    [0,0,0,6,0,1,0,7,8],\n",
    "    [0,0,7,0,4,0,2,6,0],\n",
    "    [0,0,1,0,5,0,9,3,0],\n",
    "    [9,0,4,0,6,0,0,0,5],\n",
    "    [0,7,0,3,0,0,0,1,2],\n",
    "    [1,2,0,0,0,7,4,0,0],\n",
    "    [0,4,9,2,0,6,0,0,7]\n",
    "]\n",
    "\n",
    "\n",
    "def solve(bo):\n",
    "    find = find_empty(bo)\n",
    "    if not find:\n",
    "        return True\n",
    "    else:\n",
    "        row, col = find\n",
    "\n",
    "    for i in range(1,10):\n",
    "        if valid(bo, i, (row, col)):\n",
    "            bo[row][col] = i\n",
    "\n",
    "            if solve(bo):\n",
    "                return True\n",
    "\n",
    "            bo[row][col] = 0\n",
    "\n",
    "    return False\n",
    "\n",
    "\n",
    "def valid(bo, num, pos):\n",
    "    # Check row\n",
    "    for i in range(len(bo[0])):\n",
    "        if bo[pos[0]][i] == num and pos[1] != i:\n",
    "            return False\n",
    "\n",
    "    # Check column\n",
    "    for i in range(len(bo)):\n",
    "        if bo[i][pos[1]] == num and pos[0] != i:\n",
    "            return False\n",
    "\n",
    "    # Check box\n",
    "    box_x = pos[1] // 3\n",
    "    box_y = pos[0] // 3\n",
    "\n",
    "    for i in range(box_y*3, box_y*3 + 3):\n",
    "        for j in range(box_x * 3, box_x*3 + 3):\n",
    "            if bo[i][j] == num and (i,j) != pos:\n",
    "                return False\n",
    "\n",
    "    return True\n",
    "\n",
    "\n",
    "def print_board(bo):\n",
    "    for i in range(len(bo)):\n",
    "        if i % 3 == 0 and i != 0:\n",
    "            print(\"- - - - - - - - - - - - - \")\n",
    "\n",
    "        for j in range(len(bo[0])):\n",
    "            if j % 3 == 0 and j != 0:\n",
    "                print(\" | \", end=\"\")\n",
    "\n",
    "            if j == 8:\n",
    "                print(bo[i][j])\n",
    "            else:\n",
    "                print(str(bo[i][j]) + \" \", end=\"\")\n",
    "\n",
    "\n",
    "def find_empty(bo):\n",
    "    for i in range(len(bo)):\n",
    "        for j in range(len(bo[0])):\n",
    "            if bo[i][j] == 0:\n",
    "                return (i, j)  # row, col\n",
    "\n",
    "    return None\n",
    "print(\"Dette var brettet som ble gitt i oppgaven, altså input\")\n",
    "print_board(board)\n",
    "solve(board)\n",
    "print(\"___________________\")\n",
    "print(\"Med et raskt søk i Google finner man en kode som løser sudoku raskere en Olav H\")\n",
    "print_board(board)"
   ]
  },
  {
   "cell_type": "code",
   "execution_count": null,
   "metadata": {},
   "outputs": [],
   "source": []
  }
 ],
 "metadata": {
  "kernelspec": {
   "display_name": "Python 3",
   "language": "python",
   "name": "python3"
  },
  "language_info": {
   "codemirror_mode": {
    "name": "ipython",
    "version": 3
   },
   "file_extension": ".py",
   "mimetype": "text/x-python",
   "name": "python",
   "nbconvert_exporter": "python",
   "pygments_lexer": "ipython3",
   "version": "3.7.3"
  }
 },
 "nbformat": 4,
 "nbformat_minor": 2
}
